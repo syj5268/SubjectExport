{
  "nbformat": 4,
  "nbformat_minor": 0,
  "metadata": {
    "colab": {
      "name": "KMOOC_전처리3.ipynb",
      "provenance": [],
      "collapsed_sections": []
    },
    "kernelspec": {
      "name": "python3",
      "display_name": "Python 3"
    },
    "language_info": {
      "name": "python"
    }
  },
  "cells": [
    {
      "cell_type": "code",
      "metadata": {
        "colab": {
          "base_uri": "https://localhost:8080/"
        },
        "id": "kL9BCHUoiu1j",
        "outputId": "8e4aa2df-002d-4d1a-c5b5-f239edc54013"
      },
      "source": [
        "from google.colab import drive\n",
        "drive.mount('/content/drive')"
      ],
      "execution_count": null,
      "outputs": [
        {
          "output_type": "stream",
          "text": [
            "Drive already mounted at /content/drive; to attempt to forcibly remount, call drive.mount(\"/content/drive\", force_remount=True).\n"
          ],
          "name": "stdout"
        }
      ]
    },
    {
      "cell_type": "code",
      "metadata": {
        "id": "rpEBCSrSkKa6"
      },
      "source": [
        "import pandas as pd"
      ],
      "execution_count": null,
      "outputs": []
    },
    {
      "cell_type": "code",
      "metadata": {
        "id": "0oRA9CO7icF2"
      },
      "source": [
        "path='/content/drive/Shareddrives/스마트 캠퍼스 데이터톤/kmoocdata3.xlsx'\n",
        "kmoocdata3=pd.read_excel(path)"
      ],
      "execution_count": null,
      "outputs": []
    },
    {
      "cell_type": "code",
      "metadata": {
        "colab": {
          "base_uri": "https://localhost:8080/"
        },
        "id": "l1HN9IOTkMZx",
        "outputId": "3c84772d-59b9-4385-d292-00f79a6dbcde"
      },
      "source": [
        "kmoocdata3[\"overview\"]"
      ],
      "execution_count": null,
      "outputs": [
        {
          "output_type": "execute_result",
          "data": {
            "text/plain": [
              "0        강좌 소개 수업내용/목표 - 강좌 소개 : 전공 공부도 힘든데 숙제처럼 따라다니는...\n",
              "1        강좌 소개 수업내용/목표 - 강좌 소개 : 영어를 못하는 것은 아닌데 막상 영어로...\n",
              "2        강좌 소개 수업내용/목표 지식재산권 개념 및 기술과 관련된특허제도및특허정보에대한강...\n",
              "3         학습 목표 1) 컴퓨터과학의 기초가 되는 수학적 표현법과 올바른 논증법을 이해하...\n",
              "4         강좌소개 사투리는 그 지역의 삶의 모습이자 흔적이다. 그만큼 일상의 정서와 문화...\n",
              "                              ...                        \n",
              "1190     이 강좌는 ‘정보보호와 보안의 기초Ⅰ, Ⅱ’, 강좌 중 첫 번째에 해당하는 강좌입...\n",
              "1191     교과목 개요 영화는 현대 디지털 미디어에 적용되는 시각적 세계어를 만든 장르이다....\n",
              "1192     ▣ 강의 개요 ▣ 2015년은 일반상대성이론이 세상에 나온 지 꼭 100년이 되는...\n",
              "1193     강의 개요 우리나라는 문헌의 나라입니다. 근대 이전의 한국은 국가나 관아뿐만 아니...\n",
              "1194     ■ 강좌 소개 물체는 왜, 그리고 어떻게 움직일까요? 동역학은 모든 움직이는 물체...\n",
              "Name: overview, Length: 1195, dtype: object"
            ]
          },
          "metadata": {
            "tags": []
          },
          "execution_count": 11
        }
      ]
    },
    {
      "cell_type": "markdown",
      "metadata": {
        "id": "4SjlSpZdifwi"
      },
      "source": [
        "##종료 강좌 column 추가"
      ]
    },
    {
      "cell_type": "code",
      "metadata": {
        "id": "519qSYQ9jzra"
      },
      "source": [
        "from os import listdir"
      ],
      "execution_count": null,
      "outputs": []
    },
    {
      "cell_type": "code",
      "metadata": {
        "id": "LP6gVOi6jELR"
      },
      "source": [
        "file=[]\n",
        "path='/content/drive/Shareddrives/스마트 캠퍼스 데이터톤/end/'\n",
        "for i in range(7):\n",
        "  with open(path+listdir(path)[i],'r', encoding='UTF8') as f:\n",
        "    file.append(f.read())"
      ],
      "execution_count": null,
      "outputs": []
    },
    {
      "cell_type": "code",
      "metadata": {
        "id": "lB5R2YyXvBB5"
      },
      "source": [
        "file =' '.join(file)"
      ],
      "execution_count": null,
      "outputs": []
    },
    {
      "cell_type": "code",
      "metadata": {
        "id": "IaMnlBnYljec"
      },
      "source": [
        "import re"
      ],
      "execution_count": null,
      "outputs": []
    },
    {
      "cell_type": "code",
      "metadata": {
        "id": "WiyswC3Xk9l5"
      },
      "source": [
        "end=list()\n",
        "end.append(re.findall(r'\"_id\":\\s\".+\"',file))"
      ],
      "execution_count": null,
      "outputs": []
    },
    {
      "cell_type": "code",
      "metadata": {
        "id": "E3iHndlcwNDx"
      },
      "source": [
        "end =sum(end, [])"
      ],
      "execution_count": null,
      "outputs": []
    },
    {
      "cell_type": "code",
      "metadata": {
        "id": "GkDuucA3vtL5"
      },
      "source": [
        "end = [re.sub('\"_id\": \"','http://www.kmooc.kr/courses/',end[i]) for i in range(len(end))]\n",
        "end = [re.sub('\"','/about',end[i]) for i in range(len(end))]"
      ],
      "execution_count": null,
      "outputs": []
    },
    {
      "cell_type": "code",
      "metadata": {
        "colab": {
          "base_uri": "https://localhost:8080/"
        },
        "id": "9PlYIiXEvxXE",
        "outputId": "163795dd-edc0-4d75-8c5d-7eb445b06c67"
      },
      "source": [
        "end"
      ],
      "execution_count": null,
      "outputs": [
        {
          "output_type": "execute_result",
          "data": {
            "text/plain": [
              "['http://www.kmooc.kr/courses/course-v1:SMUk+SMU2020_01+2021_1_A1/about',\n",
              " 'http://www.kmooc.kr/courses/course-v1:KRA+KRA01+2021_2/about',\n",
              " 'http://www.kmooc.kr/courses/course-v1:UOSk+ACE_UOS06+2021_T2/about',\n",
              " 'http://www.kmooc.kr/courses/course-v1:KOHI+KOHI003+2021_C_002/about',\n",
              " 'http://www.kmooc.kr/courses/course-v1:SCU+SCU013+2020_1/about',\n",
              " 'http://www.kmooc.kr/courses/course-v1:KKUk+CK_KKUkbio002+2021_T1/about',\n",
              " 'http://www.kmooc.kr/courses/course-v1:UOSk+UOS06+2021_T1/about',\n",
              " 'http://www.kmooc.kr/courses/course-v1:UOSk+UOS04+2021_T1/about',\n",
              " 'http://www.kmooc.kr/courses/course-v1:UOSk+UOS09+2021_T1/about',\n",
              " 'http://www.kmooc.kr/courses/course-v1:UOSk+UOS07+2021_T1/about',\n",
              " 'http://www.kmooc.kr/courses/course-v1:UOSk+UOS10+2021_T1/about',\n",
              " 'http://www.kmooc.kr/courses/course-v1:UOSk+ACE_UOS05+2021_T1/about',\n",
              " 'http://www.kmooc.kr/courses/course-v1:UOSk+UOS05+2021_T1/about',\n",
              " 'http://www.kmooc.kr/courses/course-v1:UOSk+UOS03+2021_T1/about',\n",
              " 'http://www.kmooc.kr/courses/course-v1:UOSk+UOS02+2021_T1/about',\n",
              " 'http://www.kmooc.kr/courses/course-v1:UOSk+UOS08+2021_T1/about',\n",
              " 'http://www.kmooc.kr/courses/course-v1:UOSk+UOS01+2021_T1/about',\n",
              " 'http://www.kmooc.kr/courses/course-v1:DKUK+MOOC_DKUK0014+2021_1/about',\n",
              " 'http://www.kmooc.kr/courses/course-v1:DKUK+MOOC_DKUK0016+2021_1/about',\n",
              " 'http://www.kmooc.kr/courses/course-v1:DKUK+MOOC_DKUK0013+2021_1/about',\n",
              " 'http://www.kmooc.kr/courses/course-v1:DKUK+MOOC_DKUK0012+2021_1/about',\n",
              " 'http://www.kmooc.kr/courses/course-v1:DKUK+MOOC_DKUK0015+2021_1/about',\n",
              " 'http://www.kmooc.kr/courses/course-v1:DKUK+MOOC_DKUK0017+2021_1/about',\n",
              " 'http://www.kmooc.kr/courses/course-v1:DKUK+MOOC_DKUK0011+2021_1/about',\n",
              " 'http://www.kmooc.kr/courses/course-v1:KGU+KGU01+2021_T1/about',\n",
              " 'http://www.kmooc.kr/courses/course-v1:UOSk+ACE_UOS08+2021_T1/about',\n",
              " 'http://www.kmooc.kr/courses/course-v1:UOSk+ACE_UOS02+2021_T1/about',\n",
              " 'http://www.kmooc.kr/courses/course-v1:UOSk+ACE_UOS03+2021_T1/about',\n",
              " 'http://www.kmooc.kr/courses/course-v1:UOSk+ACE_UOS07+2021_T1/about',\n",
              " 'http://www.kmooc.kr/courses/course-v1:ChungbukK+CK_Chungbuk_02+2021_02/about',\n",
              " 'http://www.kmooc.kr/courses/course-v1:ChungbukK+Chungbuk_04+2021_04/about',\n",
              " 'http://www.kmooc.kr/courses/course-v1:ChungbukK+Chungbuk_03+2021_03/about',\n",
              " 'http://www.kmooc.kr/courses/course-v1:ChungbukK+Chungbuk_07+2021_06/about',\n",
              " 'http://www.kmooc.kr/courses/course-v1:ChungbukK+CK_Chungbuk_01+2021_01/about',\n",
              " 'http://www.kmooc.kr/courses/course-v1:ChungbukK+Chungbuk_06+2021_05/about',\n",
              " 'http://www.kmooc.kr/courses/course-v1:KMUniv+KMUniv02+2021_T1/about',\n",
              " 'http://www.kmooc.kr/courses/course-v1:TUk+LINC_TUMOOC0001+2021_T1/about',\n",
              " 'http://www.kmooc.kr/courses/course-v1:KoreaUnivK+ku_soc_003+2021_A17/about',\n",
              " 'http://www.kmooc.kr/courses/course-v1:SSUk+SSMOOC16K+2021_T1/about',\n",
              " 'http://www.kmooc.kr/courses/course-v1:UOUk+UOU502_01K+U502A_2020_T2/about',\n",
              " 'http://www.kmooc.kr/courses/course-v1:UOUk+UOU501_01K+U501A_2020_T2/about',\n",
              " 'http://www.kmooc.kr/courses/course-v1:MJU+MJU_202002+MJU_202002/about',\n",
              " 'http://www.kmooc.kr/courses/course-v1:MJU+MJU_202101+MJU_202101/about',\n",
              " 'http://www.kmooc.kr/courses/course-v1:MJU+MJU_202103+MJU_202103/about',\n",
              " 'http://www.kmooc.kr/courses/course-v1:MJU+MJU_04+MJU_04/about',\n",
              " 'http://www.kmooc.kr/courses/course-v1:NSU+NSU001+2020_T2_01/about',\n",
              " 'http://www.kmooc.kr/courses/course-v1:NSU+NSU002+2020_T2_01/about',\n",
              " 'http://www.kmooc.kr/courses/course-v1:SCU+SCU002+2021_1/about',\n",
              " 'http://www.kmooc.kr/courses/course-v1:UOSk+ACE_UOS06+2021_T1/about',\n",
              " 'http://www.kmooc.kr/courses/course-v1:EwhaK+EW11237K+2021_S01/about',\n",
              " 'http://www.kmooc.kr/courses/course-v1:EwhaK+EW18001K+2021_S03/about',\n",
              " 'http://www.kmooc.kr/courses/course-v1:EwhaK+EW11240K+2021_S02/about',\n",
              " 'http://www.kmooc.kr/courses/course-v1:EwhaK+EW20003K+2020_F21/about',\n",
              " 'http://www.kmooc.kr/courses/course-v1:EwhaK+EW20004K+2020_F22/about',\n",
              " 'http://www.kmooc.kr/courses/course-v1:SCU+SCU012+2020_1/about',\n",
              " 'http://www.kmooc.kr/courses/course-v1:SCU+SCU006+2020_1/about',\n",
              " 'http://www.kmooc.kr/courses/course-v1:SCU+SCU007+2020_1/about',\n",
              " 'http://www.kmooc.kr/courses/course-v1:SCU+SCU008+2020_1/about',\n",
              " 'http://www.kmooc.kr/courses/course-v1:SCU+SCU009+2020_1/about',\n",
              " 'http://www.kmooc.kr/courses/course-v1:SCU+SCU010+2020_1/about',\n",
              " 'http://www.kmooc.kr/courses/course-v1:SCU+SCU011+2020_1/about',\n",
              " 'http://www.kmooc.kr/courses/course-v1:EwhaK+EW20005K+2020_F23/about',\n",
              " 'http://www.kmooc.kr/courses/course-v1:EwhaK+EW20002K+2020_F20/about',\n",
              " 'http://www.kmooc.kr/courses/course-v1:EwhaK+EW20001K+2020_F19/about',\n",
              " 'http://www.kmooc.kr/courses/course-v1:SKUk+SKUMOOC02k+2020_T2/about',\n",
              " 'http://www.kmooc.kr/courses/course-v1:DCUk+UI_DCU_11+2020_T2_1/about',\n",
              " 'http://www.kmooc.kr/courses/course-v1:SKKUk+SKKU_40+2020_T1/about',\n",
              " 'http://www.kmooc.kr/courses/course-v1:SMUk+SMU2018_01+2020_2_T1/about',\n",
              " 'http://www.kmooc.kr/courses/course-v1:SMUk+FD_SMU03+2020_2_S3/about',\n",
              " 'http://www.kmooc.kr/courses/course-v1:SMUk+ACE_FA_SMU04+2020_2_S4/about',\n",
              " 'http://www.kmooc.kr/courses/course-v1:ACRCEDU+ACRC01+2020_02/about',\n",
              " 'http://www.kmooc.kr/courses/course-v1:KoreaUnivK+ku_hum_007+2020_A34/about',\n",
              " 'http://www.kmooc.kr/courses/course-v1:ChungbukK+Chungbuk_05+2020_10/about',\n",
              " 'http://www.kmooc.kr/courses/course-v1:YeungnamUnivK+YU218002+2020_T2/about',\n",
              " 'http://www.kmooc.kr/courses/course-v1:PNUk+ET_C01+2020_KM_009/about',\n",
              " 'http://www.kmooc.kr/courses/course-v1:DEU+DEU_00001+2020-T1/about',\n",
              " 'http://www.kmooc.kr/courses/course-v1:UOUk+UOU301_01k+U301A_3_2020_T1/about',\n",
              " 'http://www.kmooc.kr/courses/course-v1:SKKUk+SKKU_31+2020_T1/about',\n",
              " 'http://www.kmooc.kr/courses/course-v1:SKKUk+SKKU_COS3062+2020_T1/about',\n",
              " 'http://www.kmooc.kr/courses/course-v1:SKKUk+CORE_SKKU_CHED017_O1K+2020_T1/about',\n",
              " 'http://www.kmooc.kr/courses/course-v1:SKKUk+SKKU_34+2020_T1/about',\n",
              " 'http://www.kmooc.kr/courses/course-v1:SKKUk+SKKU_33+2020_T1/about',\n",
              " 'http://www.kmooc.kr/courses/course-v1:SKKUk+SKKU_COS3065+2020_T1/about',\n",
              " 'http://www.kmooc.kr/courses/course-v1:MJU+MJU02+2019_T2/about',\n",
              " 'http://www.kmooc.kr/courses/course-v1:MJU+MJU01+2019_T2/about',\n",
              " 'http://www.kmooc.kr/courses/course-v1:MJU+MJU03+2019_T2/about',\n",
              " 'http://www.kmooc.kr/courses/course-v1:ACRCEDU+ACRC01+2019_01/about',\n",
              " 'http://www.kmooc.kr/courses/course-v1:POSTECHk+CSED490k+2019_T1/about',\n",
              " 'http://www.kmooc.kr/courses/course-v1:YonseiWK+FD_WY102_02k+2019_02B_T2/about',\n",
              " 'http://www.kmooc.kr/courses/course-v1:YonseiWK+FD_WY102_01k+2019_02A_T2/about',\n",
              " 'http://www.kmooc.kr/courses/course-v1:YonseiWK+FD_WY101_01k+2019_01A_T2/about',\n",
              " 'http://www.kmooc.kr/courses/course-v1:EwhaK+EW11237K+2019_F06/about',\n",
              " 'http://www.kmooc.kr/courses/course-v1:PNUk+FM_C01+2019_KM_010/about',\n",
              " 'http://www.kmooc.kr/courses/course-v1:SKKUk+SKKU_26+2019_T2/about',\n",
              " 'http://www.kmooc.kr/courses/course-v1:ChungbukK+Chungbuk_03+2019_06/about',\n",
              " 'http://www.kmooc.kr/courses/course-v1:SKKUk+SKKU_2017_05+2019_T1/about',\n",
              " 'http://www.kmooc.kr/courses/course-v1:SKUk+FD_SKUMOOC01k+2019_T2/about',\n",
              " 'http://www.kmooc.kr/courses/course-v1:HYUk+HYUKMOOC2017_2k+2019_C2/about',\n",
              " 'http://www.kmooc.kr/courses/course-v1:HYUk+CORE_HYUKMOOC2016_4k+2019_C4/about',\n",
              " 'http://www.kmooc.kr/courses/course-v1:HYUk+HYUKMOOC2017_3k+2019_C3/about',\n",
              " 'http://www.kmooc.kr/courses/course-v1:HYUk+CORE_HYUKMOOC2016_5k+2019_C5/about',\n",
              " 'http://www.kmooc.kr/courses/course-v1:HYUk+HYUKMOOC2016_1k+2019_C1/about',\n",
              " 'http://www.kmooc.kr/courses/course-v1:HYUk+HYUKMOOC2017_1k+2019_C1/about',\n",
              " 'http://www.kmooc.kr/courses/course-v1:HYUk+HYUKMOOC2016_2k+2019_C3/about',\n",
              " 'http://www.kmooc.kr/courses/course-v1:HallymK+ACE_HLM02+20191HLM01/about',\n",
              " 'http://www.kmooc.kr/courses/course-v1:UOUk+UOU302_02k+UOU302A_0_2018_T2/about',\n",
              " 'http://www.kmooc.kr/courses/course-v1:UOUk+UOU302_01k+UOU302A_0_2018_T2/about',\n",
              " 'http://www.kmooc.kr/courses/course-v1:SKKUk+CORE_SKKU_COS2022_01K+2018_T1/about',\n",
              " 'http://www.kmooc.kr/courses/course-v1:SKKUk+SKKU_BUS3033_01K+2018_SKKU25/about',\n",
              " 'http://www.kmooc.kr/courses/course-v1:SKKUk+CORE_SKKU_COS2021_01K+2018_T1/about',\n",
              " 'http://www.kmooc.kr/courses/course-v1:YeungnamUnivK+KOCW.YU215001+2018_01/about',\n",
              " 'http://www.kmooc.kr/courses/course-v1:YSUk+YSU_PHI01k+2018_T1/about',\n",
              " 'http://www.kmooc.kr/courses/course-v1:DKUK+CK_DKUK0001+2018_T1/about',\n",
              " 'http://www.kmooc.kr/courses/course-v1:SKKUk+CORE_SKKU_COS2007_O1K+2018_SKKU07/about',\n",
              " 'http://www.kmooc.kr/courses/course-v1:SKKUk+SKKU_EXGB506_01K+2018_SKKU02/about',\n",
              " 'http://www.kmooc.kr/courses/course-v1:SKKUk+CORE_SKKU_COS2017_O1K+2018_SKKU08/about',\n",
              " 'http://www.kmooc.kr/courses/course-v1:SKKUk+SKKU_EC02006_O1K+2018_SKKU05/about',\n",
              " 'http://www.kmooc.kr/courses/course-v1:HYUk+HYUARE4100k+2018_C1/about',\n",
              " 'http://www.kmooc.kr/courses/course-v1:SKKUk+SKKU_2017_03+2017_SKKU01/about',\n",
              " 'http://www.kmooc.kr/courses/course-v1:POSTECHk+CITE241+2017_T1/about',\n",
              " 'http://www.kmooc.kr/courses/course-v1:SKKUk+CORE_SKKU_COS2007_O1K+2017_T1_0/about',\n",
              " 'http://www.kmooc.kr/courses/course-v1:SKKUk+CORE_SKKU_COS2017_O1K+2017_T1_0/about',\n",
              " 'http://www.kmooc.kr/courses/course-v1:SKKUk+SKKU_EC02006_O1K+2017_T1_0/about',\n",
              " 'http://www.kmooc.kr/courses/course-v1:YeungnamUnivK+YU217001+2017_01/about',\n",
              " 'http://www.kmooc.kr/courses/course-v1:UOUk+UOU201_01k+U201O_1_2017_T2/about',\n",
              " 'http://www.kmooc.kr/courses/course-v1:SKKUk+GEDT011.01x+2017_SKKU01/about',\n",
              " 'http://www.kmooc.kr/courses/course-v1:SejonguniversityK+SJKMOOC03_02k+2016_01SJ3_2/about',\n",
              " 'http://www.kmooc.kr/courses/course-v1:UOUk+UOU102.01k+U102O.1.2016/about',\n",
              " 'http://www.kmooc.kr/courses/course-v1:HallymK+ACE.HLM01+20161HLM01/about',\n",
              " 'http://www.kmooc.kr/courses/course-v1:SejonguniversityK+SJKMOOC03k+2016_01SJ3/about',\n",
              " 'http://www.kmooc.kr/courses/course-v1:UOUk+UOU101.01k+U101A.1/about',\n",
              " 'http://www.kmooc.kr/courses/course-v1:SejonguniversityK+SJKMOOC02_02k+2016_01SJ2_2/about',\n",
              " 'http://www.kmooc.kr/courses/course-v1:SejonguniversityK+SJKMOOC02_01k+2016_01SJ2_1/about',\n",
              " 'http://www.kmooc.kr/courses/course-v1:EwhaK+EW11151K+2016-F02/about']"
            ]
          },
          "metadata": {
            "tags": []
          },
          "execution_count": 20
        }
      ]
    },
    {
      "cell_type": "code",
      "metadata": {
        "id": "P7S85y1nwwhY"
      },
      "source": [
        "kmoocdata3[\"possible\"] = 1"
      ],
      "execution_count": null,
      "outputs": []
    },
    {
      "cell_type": "code",
      "metadata": {
        "colab": {
          "base_uri": "https://localhost:8080/"
        },
        "id": "6rstkn5MwiGu",
        "outputId": "5dc29b85-5632-45d0-937a-7c639d3bb955"
      },
      "source": [
        "#들을 수 없는 강의는 0\n",
        "for i in range(1195):\n",
        "  if kmoocdata3[\"id\"][i] in end:\n",
        "    kmoocdata3[\"possible\"][i] =0"
      ],
      "execution_count": null,
      "outputs": [
        {
          "output_type": "stream",
          "text": [
            "/usr/local/lib/python3.7/dist-packages/ipykernel_launcher.py:4: SettingWithCopyWarning: \n",
            "A value is trying to be set on a copy of a slice from a DataFrame\n",
            "\n",
            "See the caveats in the documentation: https://pandas.pydata.org/pandas-docs/stable/user_guide/indexing.html#returning-a-view-versus-a-copy\n",
            "  after removing the cwd from sys.path.\n"
          ],
          "name": "stderr"
        }
      ]
    },
    {
      "cell_type": "code",
      "metadata": {
        "id": "C1jH7BMYouNu"
      },
      "source": [
        "kmoocdata3 = kmoocdata3.drop(columns=['Unnamed: 0', 'Unnamed: 0.1'])"
      ],
      "execution_count": null,
      "outputs": []
    },
    {
      "cell_type": "code",
      "metadata": {
        "id": "75UbyK-zxkKd"
      },
      "source": [
        "kmoocdata3.to_excel(\"kmoocdata4.xlsx\")"
      ],
      "execution_count": null,
      "outputs": []
    },
    {
      "cell_type": "markdown",
      "metadata": {
        "id": "WhfEaQmjlyJk"
      },
      "source": [
        "##middle_classfy, classfy 데이터 불러오기"
      ]
    },
    {
      "cell_type": "code",
      "metadata": {
        "id": "L5V3k3z1yCrh",
        "colab": {
          "base_uri": "https://localhost:8080/"
        },
        "outputId": "08f6ea2f-afbb-4a5a-c44b-ee2cbcb67f27"
      },
      "source": [
        "from google.colab import drive\n",
        "drive.mount('/content/drive')"
      ],
      "execution_count": null,
      "outputs": [
        {
          "output_type": "stream",
          "text": [
            "Mounted at /content/drive\n"
          ],
          "name": "stdout"
        }
      ]
    },
    {
      "cell_type": "code",
      "metadata": {
        "id": "2blxBUiDl9qD"
      },
      "source": [
        "import pandas as pd"
      ],
      "execution_count": null,
      "outputs": []
    },
    {
      "cell_type": "code",
      "metadata": {
        "id": "ib7dfp0SmAX8"
      },
      "source": [
        "path1='/content/drive/Shareddrives/스마트 캠퍼스 데이터톤/course/classfy.xlsx'\n",
        "classfy=pd.read_excel(path1)"
      ],
      "execution_count": null,
      "outputs": []
    },
    {
      "cell_type": "code",
      "metadata": {
        "colab": {
          "base_uri": "https://localhost:8080/",
          "height": 358
        },
        "id": "3tQzdiKRmfdM",
        "outputId": "e3830071-093c-4faf-d9df-28afa2b7d5d3"
      },
      "source": [
        "classfy"
      ],
      "execution_count": null,
      "outputs": [
        {
          "output_type": "execute_result",
          "data": {
            "text/html": [
              "<div>\n",
              "<style scoped>\n",
              "    .dataframe tbody tr th:only-of-type {\n",
              "        vertical-align: middle;\n",
              "    }\n",
              "\n",
              "    .dataframe tbody tr th {\n",
              "        vertical-align: top;\n",
              "    }\n",
              "\n",
              "    .dataframe thead th {\n",
              "        text-align: right;\n",
              "    }\n",
              "</style>\n",
              "<table border=\"1\" class=\"dataframe\">\n",
              "  <thead>\n",
              "    <tr style=\"text-align: right;\">\n",
              "      <th></th>\n",
              "      <th>classfy</th>\n",
              "      <th>meaning</th>\n",
              "    </tr>\n",
              "  </thead>\n",
              "  <tbody>\n",
              "    <tr>\n",
              "      <th>0</th>\n",
              "      <td>med</td>\n",
              "      <td>의약</td>\n",
              "    </tr>\n",
              "    <tr>\n",
              "      <th>1</th>\n",
              "      <td>None</td>\n",
              "      <td>없음</td>\n",
              "    </tr>\n",
              "    <tr>\n",
              "      <th>2</th>\n",
              "      <td>art</td>\n",
              "      <td>예체능</td>\n",
              "    </tr>\n",
              "    <tr>\n",
              "      <th>3</th>\n",
              "      <td>eng</td>\n",
              "      <td>공학</td>\n",
              "    </tr>\n",
              "    <tr>\n",
              "      <th>4</th>\n",
              "      <td>hum</td>\n",
              "      <td>인문</td>\n",
              "    </tr>\n",
              "    <tr>\n",
              "      <th>5</th>\n",
              "      <td>edu</td>\n",
              "      <td>교육</td>\n",
              "    </tr>\n",
              "    <tr>\n",
              "      <th>6</th>\n",
              "      <td>all</td>\n",
              "      <td>전체</td>\n",
              "    </tr>\n",
              "    <tr>\n",
              "      <th>7</th>\n",
              "      <td>nat</td>\n",
              "      <td>자연</td>\n",
              "    </tr>\n",
              "    <tr>\n",
              "      <th>8</th>\n",
              "      <td>social</td>\n",
              "      <td>사회</td>\n",
              "    </tr>\n",
              "    <tr>\n",
              "      <th>9</th>\n",
              "      <td>intd</td>\n",
              "      <td>융,복합</td>\n",
              "    </tr>\n",
              "  </tbody>\n",
              "</table>\n",
              "</div>"
            ],
            "text/plain": [
              "  classfy meaning\n",
              "0     med      의약\n",
              "1    None      없음\n",
              "2     art     예체능\n",
              "3     eng      공학\n",
              "4     hum      인문\n",
              "5     edu      교육\n",
              "6     all      전체\n",
              "7     nat      자연\n",
              "8  social      사회\n",
              "9    intd    융,복합"
            ]
          },
          "metadata": {
            "tags": []
          },
          "execution_count": 5
        }
      ]
    },
    {
      "cell_type": "code",
      "metadata": {
        "id": "s5l8iGGLmh5T"
      },
      "source": [
        "path2='/content/drive/Shareddrives/스마트 캠퍼스 데이터톤/course/middle_classfy.xlsx'\n",
        "midclassfy=pd.read_excel(path2)"
      ],
      "execution_count": null,
      "outputs": []
    },
    {
      "cell_type": "code",
      "metadata": {
        "colab": {
          "base_uri": "https://localhost:8080/",
          "height": 1000
        },
        "id": "6mq95EMXmlGV",
        "outputId": "89704eb1-9863-461f-9859-12de76498676"
      },
      "source": [
        "midclassfy"
      ],
      "execution_count": null,
      "outputs": [
        {
          "output_type": "execute_result",
          "data": {
            "text/html": [
              "<div>\n",
              "<style scoped>\n",
              "    .dataframe tbody tr th:only-of-type {\n",
              "        vertical-align: middle;\n",
              "    }\n",
              "\n",
              "    .dataframe tbody tr th {\n",
              "        vertical-align: top;\n",
              "    }\n",
              "\n",
              "    .dataframe thead th {\n",
              "        text-align: right;\n",
              "    }\n",
              "</style>\n",
              "<table border=\"1\" class=\"dataframe\">\n",
              "  <thead>\n",
              "    <tr style=\"text-align: right;\">\n",
              "      <th></th>\n",
              "      <th>middle_classfy</th>\n",
              "      <th>meaning</th>\n",
              "    </tr>\n",
              "  </thead>\n",
              "  <tbody>\n",
              "    <tr>\n",
              "      <th>0</th>\n",
              "      <td>metr</td>\n",
              "      <td>의료</td>\n",
              "    </tr>\n",
              "    <tr>\n",
              "      <th>1</th>\n",
              "      <td>all</td>\n",
              "      <td>전체</td>\n",
              "    </tr>\n",
              "    <tr>\n",
              "      <th>2</th>\n",
              "      <td>cons</td>\n",
              "      <td>건축</td>\n",
              "    </tr>\n",
              "    <tr>\n",
              "      <th>3</th>\n",
              "      <td>emdd</td>\n",
              "      <td>중등교육</td>\n",
              "    </tr>\n",
              "    <tr>\n",
              "      <th>4</th>\n",
              "      <td>espc</td>\n",
              "      <td>특수교육</td>\n",
              "    </tr>\n",
              "    <tr>\n",
              "      <th>5</th>\n",
              "      <td>play</td>\n",
              "      <td>연극,영화</td>\n",
              "    </tr>\n",
              "    <tr>\n",
              "      <th>6</th>\n",
              "      <td>civi</td>\n",
              "      <td>토목,도시</td>\n",
              "    </tr>\n",
              "    <tr>\n",
              "      <th>7</th>\n",
              "      <td>ekid</td>\n",
              "      <td>유아교육</td>\n",
              "    </tr>\n",
              "    <tr>\n",
              "      <th>8</th>\n",
              "      <td>agri</td>\n",
              "      <td>농림,수산</td>\n",
              "    </tr>\n",
              "    <tr>\n",
              "      <th>9</th>\n",
              "      <td>nurs</td>\n",
              "      <td>간호</td>\n",
              "    </tr>\n",
              "    <tr>\n",
              "      <th>10</th>\n",
              "      <td>husc</td>\n",
              "      <td>인문과학</td>\n",
              "    </tr>\n",
              "    <tr>\n",
              "      <th>11</th>\n",
              "      <td>컴퓨터·통신</td>\n",
              "      <td>컴퓨터,통신2</td>\n",
              "    </tr>\n",
              "    <tr>\n",
              "      <th>12</th>\n",
              "      <td>intd_m</td>\n",
              "      <td>융,복합</td>\n",
              "    </tr>\n",
              "    <tr>\n",
              "      <th>13</th>\n",
              "      <td>matr</td>\n",
              "      <td>소재,재료</td>\n",
              "    </tr>\n",
              "    <tr>\n",
              "      <th>14</th>\n",
              "      <td>indu</td>\n",
              "      <td>산업</td>\n",
              "    </tr>\n",
              "    <tr>\n",
              "      <th>15</th>\n",
              "      <td>cami</td>\n",
              "      <td>화공</td>\n",
              "    </tr>\n",
              "    <tr>\n",
              "      <th>16</th>\n",
              "      <td>appl</td>\n",
              "      <td>응용예술</td>\n",
              "    </tr>\n",
              "    <tr>\n",
              "      <th>17</th>\n",
              "      <td>busn</td>\n",
              "      <td>경영,경제</td>\n",
              "    </tr>\n",
              "    <tr>\n",
              "      <th>18</th>\n",
              "      <td>math</td>\n",
              "      <td>수학,물리,천문,지리</td>\n",
              "    </tr>\n",
              "    <tr>\n",
              "      <th>19</th>\n",
              "      <td>bio</td>\n",
              "      <td>생물,화학,환경</td>\n",
              "    </tr>\n",
              "    <tr>\n",
              "      <th>20</th>\n",
              "      <td>life</td>\n",
              "      <td>생활과학</td>\n",
              "    </tr>\n",
              "    <tr>\n",
              "      <th>21</th>\n",
              "      <td>dsgn</td>\n",
              "      <td>디자인</td>\n",
              "    </tr>\n",
              "    <tr>\n",
              "      <th>22</th>\n",
              "      <td>form</td>\n",
              "      <td>미술,조형</td>\n",
              "    </tr>\n",
              "    <tr>\n",
              "      <th>23</th>\n",
              "      <td>musc</td>\n",
              "      <td>음악</td>\n",
              "    </tr>\n",
              "    <tr>\n",
              "      <th>24</th>\n",
              "      <td>comp</td>\n",
              "      <td>컴퓨터,통신1</td>\n",
              "    </tr>\n",
              "    <tr>\n",
              "      <th>25</th>\n",
              "      <td>heal</td>\n",
              "      <td>치료,보건</td>\n",
              "    </tr>\n",
              "    <tr>\n",
              "      <th>26</th>\n",
              "      <td>traf</td>\n",
              "      <td>교통,운송</td>\n",
              "    </tr>\n",
              "    <tr>\n",
              "      <th>27</th>\n",
              "      <td>None</td>\n",
              "      <td>없음</td>\n",
              "    </tr>\n",
              "    <tr>\n",
              "      <th>28</th>\n",
              "      <td>law</td>\n",
              "      <td>법률</td>\n",
              "    </tr>\n",
              "    <tr>\n",
              "      <th>29</th>\n",
              "      <td>mach</td>\n",
              "      <td>기계,금속</td>\n",
              "    </tr>\n",
              "    <tr>\n",
              "      <th>30</th>\n",
              "      <td>lang</td>\n",
              "      <td>언어,문학</td>\n",
              "    </tr>\n",
              "    <tr>\n",
              "      <th>31</th>\n",
              "      <td>elec</td>\n",
              "      <td>전기,전자</td>\n",
              "    </tr>\n",
              "    <tr>\n",
              "      <th>32</th>\n",
              "      <td>deta</td>\n",
              "      <td>정밀,에너지</td>\n",
              "    </tr>\n",
              "    <tr>\n",
              "      <th>33</th>\n",
              "      <td>phar</td>\n",
              "      <td>약학</td>\n",
              "    </tr>\n",
              "    <tr>\n",
              "      <th>34</th>\n",
              "      <td>scsc</td>\n",
              "      <td>사회</td>\n",
              "    </tr>\n",
              "    <tr>\n",
              "      <th>35</th>\n",
              "      <td>enor</td>\n",
              "      <td>교육일반</td>\n",
              "    </tr>\n",
              "    <tr>\n",
              "      <th>36</th>\n",
              "      <td>danc</td>\n",
              "      <td>무용,체육</td>\n",
              "    </tr>\n",
              "    <tr>\n",
              "      <th>37</th>\n",
              "      <td>other</td>\n",
              "      <td>기타</td>\n",
              "    </tr>\n",
              "  </tbody>\n",
              "</table>\n",
              "</div>"
            ],
            "text/plain": [
              "   middle_classfy      meaning\n",
              "0            metr           의료\n",
              "1             all           전체\n",
              "2            cons           건축\n",
              "3            emdd         중등교육\n",
              "4            espc         특수교육\n",
              "5            play        연극,영화\n",
              "6            civi        토목,도시\n",
              "7            ekid         유아교육\n",
              "8            agri        농림,수산\n",
              "9            nurs           간호\n",
              "10           husc         인문과학\n",
              "11         컴퓨터·통신      컴퓨터,통신2\n",
              "12         intd_m         융,복합\n",
              "13           matr        소재,재료\n",
              "14           indu           산업\n",
              "15           cami           화공\n",
              "16           appl         응용예술\n",
              "17           busn        경영,경제\n",
              "18           math  수학,물리,천문,지리\n",
              "19            bio     생물,화학,환경\n",
              "20           life         생활과학\n",
              "21           dsgn          디자인\n",
              "22           form        미술,조형\n",
              "23           musc           음악\n",
              "24           comp      컴퓨터,통신1\n",
              "25           heal        치료,보건\n",
              "26           traf        교통,운송\n",
              "27           None           없음\n",
              "28            law           법률\n",
              "29           mach        기계,금속\n",
              "30           lang        언어,문학\n",
              "31           elec        전기,전자\n",
              "32           deta       정밀,에너지\n",
              "33           phar           약학\n",
              "34           scsc           사회\n",
              "35           enor         교육일반\n",
              "36           danc        무용,체육\n",
              "37          other           기타"
            ]
          },
          "metadata": {
            "tags": []
          },
          "execution_count": 7
        }
      ]
    },
    {
      "cell_type": "code",
      "metadata": {
        "id": "-Sb1fAxJml25"
      },
      "source": [
        ""
      ],
      "execution_count": null,
      "outputs": []
    }
  ]
}